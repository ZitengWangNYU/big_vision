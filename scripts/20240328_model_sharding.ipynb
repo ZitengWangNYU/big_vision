{
 "cells": [
  {
   "cell_type": "code",
   "execution_count": 58,
   "metadata": {},
   "outputs": [],
   "source": [
    "import jax\n",
    "import numpy as np\n",
    "from jax.experimental import mesh_utils\n",
    "import importlib\n",
    "import big_vision.input_pipeline as input_pipeline\n",
    "NamedSharding = jax.sharding.NamedSharding\n",
    "P = jax.sharding.PartitionSpec\n"
   ]
  },
  {
   "cell_type": "code",
   "execution_count": 53,
   "metadata": {},
   "outputs": [
    {
     "name": "stdout",
     "output_type": "stream",
     "text": [
      "/home/austinwang/big_vision\n"
     ]
    }
   ],
   "source": [
    "%cd ~/big_vision\n",
    "from big_vision.configs.proj.image_text.siglip_lit_laion400m import get_config\n",
    "config = get_config()"
   ]
  },
  {
   "cell_type": "markdown",
   "metadata": {},
   "source": [
    "# Data"
   ]
  },
  {
   "cell_type": "code",
   "execution_count": null,
   "metadata": {},
   "outputs": [],
   "source": [
    "batch_size = config.input.batch_size\n",
    "train_ds, ntrain_img = input_pipeline.training(config.input)"
   ]
  },
  {
   "cell_type": "markdown",
   "metadata": {},
   "source": [
    "# device mesh"
   ]
  },
  {
   "cell_type": "code",
   "execution_count": 35,
   "metadata": {},
   "outputs": [
    {
     "data": {
      "text/plain": [
       "(('data', 'fsdp'), (2, 2))"
      ]
     },
     "execution_count": 35,
     "metadata": {},
     "output_type": "execute_result"
    }
   ],
   "source": [
    "# config_mesh = [(\"data\", jax.device_count())]\n",
    "# config_mesh = [(\"data\",jax.device_count()), (\"fsdp\", 1)]\n",
    "config_mesh = [(\"data\",2), (\"fsdp\", 2)]\n",
    "mesh_axes, mesh_size = tuple(zip(*config_mesh))\n",
    "mesh_axes,mesh_size"
   ]
  },
  {
   "cell_type": "code",
   "execution_count": 36,
   "metadata": {},
   "outputs": [
    {
     "data": {
      "text/plain": [
       "[('act_batch', 'data')]"
      ]
     },
     "execution_count": 36,
     "metadata": {},
     "output_type": "execute_result"
    }
   ],
   "source": [
    "sharding_rules = [(\"act_batch\", \"data\")]\n",
    "sharding_rules"
   ]
  },
  {
   "cell_type": "code",
   "execution_count": 37,
   "metadata": {},
   "outputs": [
    {
     "data": {
      "text/plain": [
       "(2, 2)"
      ]
     },
     "execution_count": 37,
     "metadata": {},
     "output_type": "execute_result"
    }
   ],
   "source": [
    "mesh_size = np.array(jax.devices()).reshape(mesh_size).shape\n",
    "mesh_size"
   ]
  },
  {
   "cell_type": "code",
   "execution_count": 38,
   "metadata": {},
   "outputs": [
    {
     "data": {
      "text/plain": [
       "array([[TpuDevice(id=0, process_index=0, coords=(0,0,0), core_on_chip=0),\n",
       "        TpuDevice(id=1, process_index=0, coords=(1,0,0), core_on_chip=0)],\n",
       "       [TpuDevice(id=2, process_index=0, coords=(0,1,0), core_on_chip=0),\n",
       "        TpuDevice(id=3, process_index=0, coords=(1,1,0), core_on_chip=0)]],\n",
       "      dtype=object)"
      ]
     },
     "execution_count": 38,
     "metadata": {},
     "output_type": "execute_result"
    }
   ],
   "source": [
    "device_mesh = mesh_utils.create_device_mesh(mesh_size)\n",
    "device_mesh"
   ]
  },
  {
   "cell_type": "code",
   "execution_count": 39,
   "metadata": {},
   "outputs": [
    {
     "data": {
      "text/plain": [
       "array([TpuDevice(id=0, process_index=0, coords=(0,0,0), core_on_chip=0),\n",
       "       TpuDevice(id=1, process_index=0, coords=(1,0,0), core_on_chip=0),\n",
       "       TpuDevice(id=2, process_index=0, coords=(0,1,0), core_on_chip=0),\n",
       "       TpuDevice(id=3, process_index=0, coords=(1,1,0), core_on_chip=0)],\n",
       "      dtype=object)"
      ]
     },
     "execution_count": 39,
     "metadata": {},
     "output_type": "execute_result"
    }
   ],
   "source": [
    "devices_flat = device_mesh.flatten()\n",
    "devices_flat"
   ]
  },
  {
   "cell_type": "markdown",
   "metadata": {},
   "source": [
    "# Model"
   ]
  },
  {
   "cell_type": "code",
   "execution_count": null,
   "metadata": {},
   "outputs": [],
   "source": [
    "\n",
    "model_mod = importlib.import_module(f\"big_vision.models.{config.model_name}\")\n",
    "model = model_mod.Model(**config.get(\"model\", {}))\n",
    "\n",
    "def init(rng):\n",
    "batch = jax.tree_map(lambda x: jnp.zeros(x.shape, x.dtype.as_numpy_dtype),\n",
    "                        train_ds.element_spec)\n",
    "params = model.init(rng, batch[\"image\"], batch[\"labels\"])[\"params\"]\n",
    "\n",
    "# Set bias in the head to a low value, such that loss is small initially.\n",
    "if \"init_head_bias\" in config:\n",
    "    params[\"head\"][\"bias\"] = jnp.full_like(params[\"head\"][\"bias\"],\n",
    "                                            config[\"init_head_bias\"])\n",
    "\n",
    "return params\n",
    "\n",
    "# This seed makes the Jax part of things (like model init) deterministic.\n",
    "# However, full training still won't be deterministic, for example due to the\n",
    "# tf.data pipeline not being deterministic even if we would set TF seed.\n",
    "# See (internal link) for a fun read on what it takes.\n",
    "rng = jax.random.PRNGKey(u.put_cpu(config.get(\"seed\", 0)))\n",
    "\n",
    "write_note(\"Inferring parameter shapes...\")\n",
    "rng, rng_init = jax.random.split(rng)\n",
    "params_shape = jax.eval_shape(init, rng_init)\n",
    "\n",
    "write_note(\"Inferring optimizer state shapes...\")\n",
    "tx, sched_fns = bv_optax.make(config, params_shape, sched_kw=dict(\n",
    "    total_steps=total_steps, batch_size=batch_size, data_size=ntrain_img))"
   ]
  },
  {
   "cell_type": "markdown",
   "metadata": {},
   "source": [
    "# Sharding"
   ]
  },
  {
   "cell_type": "code",
   "execution_count": 40,
   "metadata": {},
   "outputs": [
    {
     "data": {
      "text/plain": [
       "Mesh(device_ids=array([[0, 1],\n",
       "       [2, 3]]), axis_names=('data', 'fsdp'))"
      ]
     },
     "execution_count": 40,
     "metadata": {},
     "output_type": "execute_result"
    }
   ],
   "source": [
    "mesh = jax.sharding.Mesh(device_mesh, mesh_axes)\n",
    "mesh"
   ]
  },
  {
   "cell_type": "code",
   "execution_count": 60,
   "metadata": {},
   "outputs": [
    {
     "data": {
      "text/plain": [
       "NamedSharding(mesh=Mesh('data': 2, 'fsdp': 2), spec=PartitionSpec())"
      ]
     },
     "execution_count": 60,
     "metadata": {},
     "output_type": "execute_result"
    }
   ],
   "source": [
    "repl_sharding = jax.sharding.NamedSharding(mesh, P())\n",
    "repl_sharding"
   ]
  },
  {
   "cell_type": "code",
   "execution_count": null,
   "metadata": {},
   "outputs": [],
   "source": []
  }
 ],
 "metadata": {
  "kernelspec": {
   "display_name": "Python 3",
   "language": "python",
   "name": "python3"
  },
  "language_info": {
   "codemirror_mode": {
    "name": "ipython",
    "version": 3
   },
   "file_extension": ".py",
   "mimetype": "text/x-python",
   "name": "python",
   "nbconvert_exporter": "python",
   "pygments_lexer": "ipython3",
   "version": "3.10.13"
  }
 },
 "nbformat": 4,
 "nbformat_minor": 2
}
