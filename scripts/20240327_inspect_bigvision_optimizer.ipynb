{
 "cells": [
  {
   "cell_type": "code",
   "execution_count": null,
   "metadata": {},
   "outputs": [
    {
     "name": "stdout",
     "output_type": "stream",
     "text": [
      "/home/austinwang/big_vision\n"
     ]
    }
   ],
   "source": [
    "%cd ~/big_vision/\n",
    "import big_vision.datasets.core as ds_core"
   ]
  },
  {
   "cell_type": "code",
   "execution_count": null,
   "metadata": {},
   "outputs": [
    {
     "name": "stderr",
     "output_type": "stream",
     "text": [
      "2024-03-26 04:16:31.351190: E external/local_xla/xla/stream_executor/cuda/cuda_dnn.cc:9261] Unable to register cuDNN factory: Attempting to register factory for plugin cuDNN when one has already been registered\n",
      "2024-03-26 04:16:31.351338: E external/local_xla/xla/stream_executor/cuda/cuda_fft.cc:607] Unable to register cuFFT factory: Attempting to register factory for plugin cuFFT when one has already been registered\n",
      "2024-03-26 04:16:31.818085: E external/local_xla/xla/stream_executor/cuda/cuda_blas.cc:1515] Unable to register cuBLAS factory: Attempting to register factory for plugin cuBLAS when one has already been registered\n",
      "2024-03-26 04:16:39.033120: W tensorflow/compiler/tf2tensorrt/utils/py_utils.cc:38] TF-TRT Warning: Could not find TensorRT\n",
      "/mnt/vlm-pd/miniconda3/envs/llvm/lib/python3.10/site-packages/tqdm/auto.py:21: TqdmWarning: IProgress not found. Please update jupyter and ipywidgets. See https://ipywidgets.readthedocs.io/en/stable/user_install.html\n",
      "  from .autonotebook import tqdm as notebook_tqdm\n",
      "WARNING:absl:You use TensorFlow DType <dtype: 'float64'> in tfds.features This will soon be deprecated in favor of NumPy DTypes. In the meantime it was converted to float64.\n",
      "WARNING:absl:You use TensorFlow DType <dtype: 'int32'> in tfds.features This will soon be deprecated in favor of NumPy DTypes. In the meantime it was converted to int32.\n"
     ]
    }
   ],
   "source": [
    "input_data = dict(name='laion400m/images', split='train')\n",
    "train_data = ds_core.get(**input_data)"
   ]
  },
  {
   "cell_type": "code",
   "execution_count": null,
   "metadata": {},
   "outputs": [
    {
     "data": {
      "text/plain": [
       "<big_vision.datasets.tfds.DataSource at 0x7feeb012fcd0>"
      ]
     },
     "metadata": {},
     "output_type": "display_data"
    }
   ],
   "source": [
    "train_data"
   ]
  },
  {
   "cell_type": "code",
   "execution_count": 2,
   "metadata": {},
   "outputs": [
    {
     "name": "stdout",
     "output_type": "stream",
     "text": [
      "/home/austinwang/big_vision\n"
     ]
    },
    {
     "name": "stderr",
     "output_type": "stream",
     "text": [
      "2024-03-28 19:44:46.655054: E external/local_xla/xla/stream_executor/cuda/cuda_dnn.cc:9261] Unable to register cuDNN factory: Attempting to register factory for plugin cuDNN when one has already been registered\n",
      "2024-03-28 19:44:46.655123: E external/local_xla/xla/stream_executor/cuda/cuda_fft.cc:607] Unable to register cuFFT factory: Attempting to register factory for plugin cuFFT when one has already been registered\n",
      "2024-03-28 19:44:46.656134: E external/local_xla/xla/stream_executor/cuda/cuda_blas.cc:1515] Unable to register cuBLAS factory: Attempting to register factory for plugin cuBLAS when one has already been registered\n",
      "2024-03-28 19:44:47.471613: W tensorflow/compiler/tf2tensorrt/utils/py_utils.cc:38] TF-TRT Warning: Could not find TensorRT\n"
     ]
    }
   ],
   "source": [
    "%cd ~/big_vision/\n",
    "import importlib\n",
    "from typing import Any, Optional, Tuple, Union\n",
    "from absl import logging\n",
    "\n",
    "from big_vision import utils\n",
    "import flax.linen as nn\n",
    "import jax.numpy as jnp\n",
    "\n",
    "ConfigDict = Any\n",
    "\n",
    "class Model(nn.Module):\n",
    "  \"\"\"Two towers transformer.\"\"\"\n",
    "  image: Optional[ConfigDict] = None\n",
    "  text: Optional[ConfigDict] = None\n",
    "  text_model: str = \"proj.image_text.text_transformer\"\n",
    "  image_model: str = \"vit\"\n",
    "  out_dim: Union[int, Tuple[int, int]] = 128\n",
    "  temperature_init: float = 1.0\n",
    "  bias_init: Optional[float] = None\n",
    "\n",
    "  @nn.compact\n",
    "  def __call__(self, image, text=None, **kw):\n",
    "    \"\"\"Returns (B,C) image and (B,C) text representations.\"\"\"\n",
    "\n",
    "    # Support calling without text or without image, for example for few-shot.\n",
    "    ztxt, zimg = None, None\n",
    "    out = {}\n",
    "    out_dims = self.out_dim\n",
    "    if isinstance(out_dims, int):\n",
    "      out_dims = (out_dims, out_dims)\n",
    "\n",
    "    # Embed the text:\n",
    "    if text is not None:\n",
    "      text_model = importlib.import_module(\n",
    "          f\"big_vision.models.{self.text_model}\"\n",
    "      ).Model(**{\"num_classes\": out_dims[1], **(self.text or {})}, name=\"txt\")\n",
    "\n",
    "      ztxt, out_txt = text_model(text, **kw)\n",
    "      for k, v in out_txt.items():\n",
    "        out[f\"txt/{k}\"] = v\n",
    "\n",
    "      # Normalize the embeddings the models give us.\n",
    "      out[\"txt/norm\"] = jnp.linalg.norm(ztxt, axis=1, keepdims=True)\n",
    "      out[\"txt/normalized\"] = ztxt = ztxt / (out[\"txt/norm\"] + 1e-8)\n",
    "\n",
    "    if image is not None:\n",
    "      image_model = importlib.import_module(\n",
    "          f\"big_vision.models.{self.image_model}\"\n",
    "      ).Model(**{\"num_classes\": out_dims[0], **(self.image or {})}, name=\"img\")  # pylint: disable=not-a-mapping\n",
    "\n",
    "      zimg, out_img = image_model(image, **kw)\n",
    "      for k, v in out_img.items():\n",
    "        out[f\"img/{k}\"] = v\n",
    "\n",
    "      # Normalize the embeddings the models give us.\n",
    "      out[\"img/norm\"] = jnp.linalg.norm(zimg, axis=1, keepdims=True)\n",
    "      out[\"img/normalized\"] = zimg = zimg / (out[\"img/norm\"] + 1e-8)\n",
    "\n",
    "    temp_init = jnp.log(self.temperature_init)\n",
    "    t = self.param(\"t\",\n",
    "                   lambda key, shape, dtype: temp_init * jnp.ones(shape, dtype),\n",
    "                   (1,), jnp.float32)\n",
    "    out[\"t\"] = jnp.exp(t)\n",
    "\n",
    "    out[\"t/parameter\"] = t\n",
    "    if (b_init := self.bias_init) is not None:\n",
    "      out[\"b\"] = self.param(\"b\", lambda k, s, d: b_init * jnp.ones(s, d),\n",
    "                            (1,), jnp.float32)\n",
    "\n",
    "    # We could actually play with pre-multiplying by temperature here, such\n",
    "    # that out[\"t\"] is nothing special to the trainer anymore.\n",
    "    # logging.info(\"Temperature: %s\", out[\"t\"].item())\n",
    "    # logging.info(\"Bias: %s\", out[\"b\"].item() if \"b\" in out else \"None\")\n",
    "    # exit()\n",
    "\n",
    "    return zimg, ztxt, out\n"
   ]
  },
  {
   "cell_type": "code",
   "execution_count": 3,
   "metadata": {},
   "outputs": [],
   "source": [
    "model = Model(temperature_init=10.0,bias_init=-10.0)"
   ]
  },
  {
   "cell_type": "code",
   "execution_count": 4,
   "metadata": {},
   "outputs": [],
   "source": [
    "import jax\n",
    "import big_vision.utils as u\n",
    "def init(rng):\n",
    "    shape = (1, 224, 224, 3)\n",
    "    dtype = jnp.float32\n",
    "    batch = {\"image\":jnp.zeros(shape, dtype)}\n",
    "    return model.init(rng, **batch)"
   ]
  },
  {
   "cell_type": "code",
   "execution_count": 5,
   "metadata": {},
   "outputs": [
    {
     "name": "stdout",
     "output_type": "stream",
     "text": [
      "Warmup steps: 1950\n"
     ]
    }
   ],
   "source": [
    "total_steps = 65_000\n",
    "warmup_steps = max(int(0.03 * total_steps), 100)\n",
    "print(\"Warmup steps:\", warmup_steps)\n",
    "schedule = [\n",
    "      ('img/.*', None),  # Freezes image tower.\n",
    "      ('.*', dict(decay_type='cosine', warmup_steps=warmup_steps)),\n",
    "  ]"
   ]
  },
  {
   "cell_type": "code",
   "execution_count": 6,
   "metadata": {},
   "outputs": [],
   "source": [
    "def _make_mask_trees(params, patterns_values, log):\n",
    "  patterns, values = zip(*patterns_values)\n",
    "  masks = u.make_mask_trees(params, patterns, log=log)\n",
    "  return masks, values\n",
    "\n",
    "def _split_frozen(masks, scheds):\n",
    "  \"\"\"Computes `frozen_mask` and updates `masks` and `scheds`.\"\"\"\n",
    "  # Specifying `None` as a scheduler freezes params.\n",
    "  all_false = jax.tree_map(lambda *bools: not any(bools), *masks)\n",
    "  not_covered = [k for k, v in u.tree_flatten_with_names(all_false)[0] if v]\n",
    "  assert not not_covered, (\n",
    "      f\"All params must be covered (use `None` for freezing): {not_covered}\")\n",
    "  frozen_masks = [\n",
    "      mask for mask, sched in zip(masks, scheds) if sched is None]\n",
    "  frozen_mask = jax.tree_map(\n",
    "      lambda *bools: any(bools), *frozen_masks,\n",
    "      all_false)  # `all_false` is required when `frozen_masks==[]`.\n",
    "  masks, scheds = zip(*(\n",
    "      (mask, sched) for mask, sched in zip(masks, scheds) if sched is not None))\n",
    "  return frozen_mask, masks, scheds\n",
    "\n"
   ]
  },
  {
   "cell_type": "code",
   "execution_count": 7,
   "metadata": {},
   "outputs": [],
   "source": [
    "import operator\n",
    "import optax\n",
    "optax_name = \"scale_by_adam\"\n",
    "tx_func = operator.attrgetter(optax_name)(optax)\n",
    "optax_dict = dict(beta2_cap=0.95)\n",
    "temp = tx_func(optax_dict)"
   ]
  },
  {
   "cell_type": "code",
   "execution_count": 9,
   "metadata": {},
   "outputs": [],
   "source": [
    "rng = jax.random.PRNGKey(u.put_cpu(0))\n",
    "rng, rng_init = jax.random.split(rng)\n",
    "params_shape = jax.eval_shape(init, rng_init)\n",
    "masks, scheds = _make_mask_trees(params_shape, schedule, \"config.schedule\")\n"
   ]
  },
  {
   "cell_type": "code",
   "execution_count": 10,
   "metadata": {},
   "outputs": [
    {
     "data": {
      "text/plain": [
       "(None, {'decay_type': 'cosine', 'warmup_steps': 1950})"
      ]
     },
     "execution_count": 10,
     "metadata": {},
     "output_type": "execute_result"
    }
   ],
   "source": [
    "scheds"
   ]
  },
  {
   "cell_type": "code",
   "execution_count": null,
   "metadata": {},
   "outputs": [],
   "source": []
  }
 ],
 "metadata": {
  "kernelspec": {
   "display_name": "Python 3",
   "language": "python",
   "name": "python3"
  },
  "language_info": {
   "codemirror_mode": {
    "name": "ipython",
    "version": 3
   },
   "file_extension": ".py",
   "mimetype": "text/x-python",
   "name": "python",
   "nbconvert_exporter": "python",
   "pygments_lexer": "ipython3",
   "version": "3.10.13"
  }
 },
 "nbformat": 4,
 "nbformat_minor": 2
}
