{
 "cells": [
  {
   "cell_type": "code",
   "execution_count": 1,
   "metadata": {},
   "outputs": [
    {
     "name": "stderr",
     "output_type": "stream",
     "text": [
      "/mnt/vlm-pd/miniconda3/envs/vlm/lib/python3.11/site-packages/IPython/core/magics/osm.py:393: UserWarning: using bookmarks requires you to install the `pickleshare` library.\n",
      "  bkms = self.shell.db.get('bookmarks', {})\n"
     ]
    },
    {
     "name": "stdout",
     "output_type": "stream",
     "text": [
      "/home/austinwang/big_vision\n"
     ]
    },
    {
     "name": "stderr",
     "output_type": "stream",
     "text": [
      "2024-04-08 01:52:45.714682: W tensorflow/compiler/tf2tensorrt/utils/py_utils.cc:38] TF-TRT Warning: Could not find TensorRT\n"
     ]
    }
   ],
   "source": [
    "%cd ~/big_vision\n",
    "import jax\n",
    "import importlib\n",
    "import numpy as np\n",
    "from absl import logging\n",
    "import jax.numpy as jnp\n",
    "from jax.experimental import mesh_utils\n",
    "\n",
    "import big_vision.utils as u\n",
    "import big_vision.optax as bv_optax\n",
    "import big_vision.sharding as bv_sharding\n",
    "import big_vision.input_pipeline as input_pipeline\n",
    "from big_vision.configs.proj.image_text.siglip_replication import get_config\n",
    "\n",
    "config = get_config()\n",
    "model_mod = importlib.import_module(f\"big_vision.models.{config.model_name}\")\n",
    "for m in config.get(\"pp_modules\", [\"ops_general\", \"ops_image\", \"ops_text\"]): importlib.import_module(f\"big_vision.pp.{m}\")\n",
    "def bytes_in_use_devices(): return [device.memory_stats()['bytes_in_use'] for device in jax.devices()]\n",
    "def info(s, *a): logging.info(\"\\u001b[33mNOTE\\u001b[0m: \" + s, *a)\n",
    "def write_note(note): \n",
    "\tif jax.process_index() == 0: info(\"%s\", note)"
   ]
  },
  {
   "cell_type": "code",
   "execution_count": 2,
   "metadata": {},
   "outputs": [
    {
     "name": "stderr",
     "output_type": "stream",
     "text": [
      "/mnt/vlm-pd/miniconda3/envs/vlm/lib/python3.11/site-packages/tqdm/auto.py:21: TqdmWarning: IProgress not found. Please update jupyter and ipywidgets. See https://ipywidgets.readthedocs.io/en/stable/user_install.html\n",
      "  from .autonotebook import tqdm as notebook_tqdm\n",
      "WARNING:absl:You use TensorFlow DType <dtype: 'int64'> in tfds.features This will soon be deprecated in favor of NumPy DTypes. In the meantime it was converted to int64.\n"
     ]
    },
    {
     "name": "stdout",
     "output_type": "stream",
     "text": [
      "WARNING:tensorflow:From /mnt/vlm-pd/miniconda3/envs/vlm/lib/python3.11/site-packages/tensorflow_datasets/core/reader.py:101: CounterV2 (from tensorflow.python.data.experimental.ops.counter) is deprecated and will be removed in a future version.\n",
      "Instructions for updating:\n",
      "Use `tf.data.Dataset.counter(...)` instead.\n"
     ]
    },
    {
     "name": "stderr",
     "output_type": "stream",
     "text": [
      "WARNING:tensorflow:From /mnt/vlm-pd/miniconda3/envs/vlm/lib/python3.11/site-packages/tensorflow_datasets/core/reader.py:101: CounterV2 (from tensorflow.python.data.experimental.ops.counter) is deprecated and will be removed in a future version.\n",
      "Instructions for updating:\n",
      "Use `tf.data.Dataset.counter(...)` instead.\n"
     ]
    }
   ],
   "source": [
    "model = model_mod.Model(**config.get(\"model\", {}))\n",
    "train_ds, ntrain_img = input_pipeline.training(config.input)\n",
    "batch_size = config.input.batch_size\n",
    "total_steps = u.steps(\"total\", config, ntrain_img, batch_size)"
   ]
  },
  {
   "cell_type": "code",
   "execution_count": 3,
   "metadata": {},
   "outputs": [
    {
     "name": "stderr",
     "output_type": "stream",
     "text": [
      "/tmp/ipykernel_298930/488954300.py:2: DeprecationWarning: jax.tree_map is deprecated: use jax.tree.map (jax v0.4.25 or newer) or jax.tree_util.tree_map (any JAX version).\n",
      "  batch = jax.tree_map(lambda x: jnp.zeros(x.shape, x.dtype.as_numpy_dtype),train_ds.element_spec)\n"
     ]
    }
   ],
   "source": [
    "def init(rng):\n",
    "\tbatch = jax.tree_map(lambda x: jnp.zeros(x.shape, x.dtype.as_numpy_dtype),train_ds.element_spec)\n",
    "\tparams = model.init(rng, batch[\"image\"], batch[\"labels\"])[\"params\"]\n",
    "\t# Set bias in the head to a low value, such that loss is small initially.\n",
    "\tif \"init_head_bias\" in config: params[\"head\"][\"bias\"] = jnp.full_like(params[\"head\"][\"bias\"],config[\"init_head_bias\"])\n",
    "\treturn params\n",
    "\n",
    "write_note(\"Inferring parameter shapes...\")\n",
    "rng = jax.random.PRNGKey(u.put_cpu(config.get(\"seed\", 0)))\n",
    "rng, rng_init = jax.random.split(rng)\n",
    "params_shape = jax.eval_shape(init, rng_init)\n",
    "\n",
    "write_note(\"Inferring optimizer state shapes...\")\n",
    "tx, sched_fns = bv_optax.make(config, params_shape, sched_kw=dict(total_steps=total_steps, batch_size=batch_size, data_size=ntrain_img))\n",
    "opt_shape = jax.eval_shape(tx.init, params_shape)\n",
    "sched_fns_cpu = [u.jit_cpu()(sched_fn) for sched_fn in sched_fns]"
   ]
  },
  {
   "cell_type": "code",
   "execution_count": 4,
   "metadata": {},
   "outputs": [
    {
     "name": "stdout",
     "output_type": "stream",
     "text": [
      "mesh: Mesh('data': 4)\n",
      "repl_sharding: NamedSharding(mesh=Mesh('data': 4), spec=PartitionSpec())\n"
     ]
    }
   ],
   "source": [
    "# config.mesh = [(\"data\",-1)]\n",
    "# config.mesh = [(\"data\", 2),('fsdp', 2)]\n",
    "# config.sharding_strategy = [('.*', 'fsdp(axis=\"data\", min_size_to_shard_mb=2)')]\n",
    "\n",
    "write_note(\"Setting up mesh...\")\n",
    "config_mesh = config.get(\"mesh\", [(\"data\", jax.device_count())])\n",
    "sharding_rules = config.get(\"sharding_rules\", [(\"act_batch\", \"data\")])\n",
    "mesh_axes, mesh_size = tuple(zip(*config_mesh))\n",
    "mesh_size = np.array(jax.devices()).reshape(mesh_size).shape\n",
    "device_mesh = mesh_utils.create_device_mesh(mesh_size)\n",
    "devices_flat = device_mesh.flatten()\n",
    "\n",
    "write_note(\"Creating device mesh...\")\n",
    "mesh = jax.sharding.Mesh(device_mesh, mesh_axes)\n",
    "print(f\"mesh: {mesh}\")\n",
    "repl_sharding = jax.sharding.NamedSharding(mesh, jax.sharding.PartitionSpec())\n",
    "print(f\"repl_sharding: {repl_sharding}\")\n",
    "\n",
    "write_note(\"Inferring shardings...\")\n",
    "train_state_shape = {\"params\": params_shape, \"opt\": opt_shape}\n",
    "strategy = config.get(\"sharding_strategy\", [(\".*\", \"replicate\")])\n",
    "train_state_sharding = bv_sharding.infer_sharding(train_state_shape, strategy=strategy, mesh=mesh)"
   ]
  },
  {
   "cell_type": "code",
   "execution_count": 5,
   "metadata": {},
   "outputs": [
    {
     "name": "stdout",
     "output_type": "stream",
     "text": [
      "bytes_in_use_devices() before rng_init reshard: [12800, 12800, 12800, 12800]\n",
      "bytes_in_use_devices() after rng_init reshard: [13312, 13312, 13312, 13312]\n",
      "bytes_in_use_devices() after init reshard: [840481792, 840481792, 840481792, 840481792]\n",
      "bytes_in_use_devices() after tx.init reshard: [2477426688, 2477426688, 2477426688, 2477426688]\n"
     ]
    }
   ],
   "source": [
    "write_note(\"Transferring train_state to devices...\")\n",
    "\n",
    "print(f\"bytes_in_use_devices() before rng_init reshard: {bytes_in_use_devices()}\")\n",
    "# RNG is always replicated\n",
    "rng_init = u.reshard(rng_init, repl_sharding)\n",
    "print(f\"bytes_in_use_devices() after rng_init reshard: {bytes_in_use_devices()}\")\n",
    "\n",
    "params = jax.jit(init, out_shardings=train_state_sharding[\"params\"])(rng_init)\n",
    "print(f\"bytes_in_use_devices() after init reshard: {bytes_in_use_devices()}\")\n",
    "\n",
    "opt = jax.jit(tx.init, out_shardings=train_state_sharding[\"opt\"])(params)\n",
    "print(f\"bytes_in_use_devices() after tx.init reshard: {bytes_in_use_devices()}\")"
   ]
  },
  {
   "cell_type": "code",
   "execution_count": null,
   "metadata": {},
   "outputs": [],
   "source": []
  }
 ],
 "metadata": {
  "kernelspec": {
   "display_name": "vlm",
   "language": "python",
   "name": "python3"
  },
  "language_info": {
   "codemirror_mode": {
    "name": "ipython",
    "version": 3
   },
   "file_extension": ".py",
   "mimetype": "text/x-python",
   "name": "python",
   "nbconvert_exporter": "python",
   "pygments_lexer": "ipython3",
   "version": "3.11.8"
  }
 },
 "nbformat": 4,
 "nbformat_minor": 2
}
