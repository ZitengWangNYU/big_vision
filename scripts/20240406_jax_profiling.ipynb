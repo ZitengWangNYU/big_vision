{
 "cells": [
  {
   "cell_type": "code",
   "execution_count": 1,
   "metadata": {},
   "outputs": [],
   "source": [
    "import jax"
   ]
  },
  {
   "cell_type": "code",
   "execution_count": 2,
   "metadata": {},
   "outputs": [],
   "source": [
    "def train_step():\t\n",
    "\t# Run the operations to be profiled\n",
    "\tkey = jax.random.key(0)\n",
    "\tx = jax.random.normal(key, (5000, 5000))\n",
    "\ty = x @ x\n",
    "\ty.block_until_ready()\n",
    "path = \"/home/austinwang/tensorboard\""
   ]
  },
  {
   "cell_type": "code",
   "execution_count": 19,
   "metadata": {},
   "outputs": [],
   "source": [
    "jax.profiler.start_server(6000)\n",
    "for step in range(3):\n",
    "\twith jax.profiler.StepTraceAnnotation(\"train_step\", step_num=step):\n",
    "\t\ttrain_step()\n",
    "jax.profiler.stop_server()"
   ]
  },
  {
   "cell_type": "code",
   "execution_count": 4,
   "metadata": {},
   "outputs": [
    {
     "data": {
      "text/plain": [
       "b\"\\x1f\\x8b\\x08\\x00T\\xd0\\x11f\\x02\\xff\\x05\\xc1[\\n\\x80 \\x10\\x05\\xd0\\x1e*b?\\xae\\xe5\\xeeH\\xc7\\x11$\\xd1\\xc81j\\xf7\\x9d\\xe3\\x94]\\xfd\\xe6\\x94\\xdd\\xbd\\xc2\\x82#\\xd4\\xda)H\\xe9m@S\\x9fM\\xa0\\xc7\\x15\\x88\\xa1\\xe3'<\\xa0\\xce\\xd2\\x12L\\x9c9\\xf3\\r\\xc7/\\xd3\\x94\\x10+\\xc3$~\\n\\xf1\\x0fGg\\xae\\xc9R\\x00\\x00\\x00\""
      ]
     },
     "execution_count": 4,
     "metadata": {},
     "output_type": "execute_result"
    }
   ],
   "source": [
    "jax.profiler.device_memory_profile()"
   ]
  },
  {
   "cell_type": "code",
   "execution_count": null,
   "metadata": {},
   "outputs": [],
   "source": []
  }
 ],
 "metadata": {
  "kernelspec": {
   "display_name": "vlm",
   "language": "python",
   "name": "python3"
  },
  "language_info": {
   "codemirror_mode": {
    "name": "ipython",
    "version": 3
   },
   "file_extension": ".py",
   "mimetype": "text/x-python",
   "name": "python",
   "nbconvert_exporter": "python",
   "pygments_lexer": "ipython3",
   "version": "3.11.8"
  }
 },
 "nbformat": 4,
 "nbformat_minor": 2
}
